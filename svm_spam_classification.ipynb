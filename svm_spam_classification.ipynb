{
 "cells": [
  {
   "metadata": {},
   "cell_type": "markdown",
   "source": [
    " SVM Spam Classification (SMS)\n",
    "\n",
    "Binary text classification on SMS messages using Support Vector Machines (SVM).\n",
    "We compare **binary / TF / TF-IDF** features, tune **C**, and benchmark vs **Naive Bayes** and **Decision Tree**."
   ],
   "id": "aceb73adcb753e71"
  },
  {
   "metadata": {},
   "cell_type": "markdown",
   "source": [
    "## Overview\n",
    "- Dataset: SMS spam (labels: ham/spam).  \n",
    "- Features: Count (binary & term frequency) and TF-IDF.  \n",
    "- Models: Linear SVM (LinearSVC), RBF SVM (SVC), Naive Bayes, Decision Tree.  \n",
    "- Metrics: accuracy, precision, recall, F1; confusion matrix.  \n",
    "- Repro: fixed `random_state`, train/test split with stratification."
   ],
   "id": "31cbbfc69a5f3ee6"
  },
  {
   "metadata": {
    "collapsed": true,
    "ExecuteTime": {
     "end_time": "2025-04-24T01:16:46.393877Z",
     "start_time": "2025-04-24T01:16:46.081623Z"
    }
   },
   "cell_type": "code",
   "outputs": [],
   "execution_count": 1,
   "source": [
    "import pandas as pd\n",
    "import numpy as np\n",
    "from sklearn.feature_extraction.text import CountVectorizer, TfidfVectorizer\n",
    "from sklearn.model_selection import train_test_split\n",
    "from sklearn.svm import SVC\n",
    "from sklearn.tree import DecisionTreeClassifier\n",
    "from sklearn.naive_bayes import MultinomialNB\n",
    "from sklearn.metrics import accuracy_score, confusion_matrix, classification_report\n",
    "import matplotlib.pyplot as plt\n",
    "import seaborn as sns\n",
    "from sklearn.model_selection import train_test_split\n",
    "import string\n",
    "import nltk\n",
    "from nltk.corpus import stopwords\n",
    "from nltk.stem import PorterStemmer"
   ],
   "id": "initial_id"
  },
  {
   "metadata": {
    "ExecuteTime": {
     "end_time": "2025-04-24T01:16:46.536814Z",
     "start_time": "2025-04-24T01:16:46.405736Z"
    }
   },
   "cell_type": "code",
   "source": "nltk.download('stopwords')",
   "id": "c50d66d2d891509e",
   "outputs": [
    {
     "name": "stderr",
     "output_type": "stream",
     "text": [
      "[nltk_data] Downloading package stopwords to\n",
      "[nltk_data]     /Users/kristop/nltk_data...\n",
      "[nltk_data]   Package stopwords is already up-to-date!\n"
     ]
    },
    {
     "data": {
      "text/plain": [
       "True"
      ]
     },
     "execution_count": 2,
     "metadata": {},
     "output_type": "execute_result"
    }
   ],
   "execution_count": 2
  },
  {
   "metadata": {
    "ExecuteTime": {
     "end_time": "2025-04-24T01:16:46.618307Z",
     "start_time": "2025-04-24T01:16:46.610074Z"
    }
   },
   "cell_type": "code",
   "source": "df = pd.read_csv('spam.csv', encoding='latin-1')",
   "id": "8ceceb3f0b3883ea",
   "outputs": [],
   "execution_count": 3
  },
  {
   "metadata": {
    "ExecuteTime": {
     "end_time": "2025-04-24T01:16:46.626714Z",
     "start_time": "2025-04-24T01:16:46.623738Z"
    }
   },
   "cell_type": "code",
   "source": [
    "df = df[['v1', 'v2']]\n",
    "df.columns = ['label', 'message']\n",
    "stop_words = set(stopwords.words('english'))\n",
    "stemmer = PorterStemmer()"
   ],
   "id": "373ec5164112fa8c",
   "outputs": [],
   "execution_count": 4
  },
  {
   "metadata": {
    "ExecuteTime": {
     "end_time": "2025-04-24T01:16:46.633416Z",
     "start_time": "2025-04-24T01:16:46.631041Z"
    }
   },
   "cell_type": "code",
   "source": [
    "def preprocess_text(text):\n",
    "    # 1. Convert to lowercase\n",
    "    text = text.lower()\n",
    "    # 2. Remove punctuation\n",
    "    text = text.translate(str.maketrans('', '', string.punctuation))\n",
    "    # 3 & 4. Tokenize, remove stopwords, apply stemming\n",
    "    tokens = text.split()\n",
    "    tokens = [stemmer.stem(word) for word in tokens if word not in stop_words]\n",
    "    return ' '.join(tokens)\n"
   ],
   "id": "57dfc8abcec0c8c8",
   "outputs": [],
   "execution_count": 5
  },
  {
   "metadata": {
    "ExecuteTime": {
     "end_time": "2025-04-24T01:16:47.049739Z",
     "start_time": "2025-04-24T01:16:46.637646Z"
    }
   },
   "cell_type": "code",
   "source": "df['clean_message'] = df['message'].apply(preprocess_text)",
   "id": "969c54dde0a43289",
   "outputs": [],
   "execution_count": 6
  },
  {
   "metadata": {
    "ExecuteTime": {
     "end_time": "2025-04-24T01:16:59.752914Z",
     "start_time": "2025-04-24T01:16:59.745347Z"
    }
   },
   "cell_type": "code",
   "source": [
    "X_train, X_test, y_train, y_test = train_test_split(df['clean_message'],\n",
    "                                                    df['label'],\n",
    "                                                    test_size=0.2,\n",
    "                                                    random_state=42)"
   ],
   "id": "4452f48cb3b7956a",
   "outputs": [],
   "execution_count": 7
  },
  {
   "metadata": {
    "ExecuteTime": {
     "end_time": "2025-04-24T01:17:06.973471Z",
     "start_time": "2025-04-24T01:17:06.968217Z"
    }
   },
   "cell_type": "code",
   "source": "print(X_train.head())",
   "id": "fbeda440a0e5c17b",
   "outputs": [
    {
     "name": "stdout",
     "output_type": "stream",
     "text": [
      "1978              im boat still mom check yo im half nake\n",
      "3989    bank granit issu strongbuy explos pick member ...\n",
      "3935                     r give second chanc rahul dengra\n",
      "4078                           play smash bro ltgt religi\n",
      "4086    privat 2003 account statement 07973788240 show...\n",
      "Name: clean_message, dtype: object\n"
     ]
    }
   ],
   "execution_count": 8
  },
  {
   "metadata": {
    "ExecuteTime": {
     "end_time": "2025-04-24T01:19:55.405584Z",
     "start_time": "2025-04-24T01:19:55.399873Z"
    }
   },
   "cell_type": "code",
   "source": "from sklearn.feature_extraction.text import CountVectorizer, TfidfVectorizer\n",
   "id": "8bfa4c8e527a9268",
   "outputs": [],
   "execution_count": 9
  },
  {
   "metadata": {
    "ExecuteTime": {
     "end_time": "2025-04-24T01:20:02.232147Z",
     "start_time": "2025-04-24T01:20:02.192588Z"
    }
   },
   "cell_type": "code",
   "source": [
    "binary_vectorizer = CountVectorizer(binary=True)\n",
    "X_train_binary = binary_vectorizer.fit_transform(X_train)\n",
    "X_test_binary = binary_vectorizer.transform(X_test)"
   ],
   "id": "23efb6d26b83283b",
   "outputs": [],
   "execution_count": 10
  },
  {
   "metadata": {
    "ExecuteTime": {
     "end_time": "2025-04-24T01:20:15.996431Z",
     "start_time": "2025-04-24T01:20:15.953789Z"
    }
   },
   "cell_type": "code",
   "source": [
    "tf_vectorizer = CountVectorizer()   \n",
    "X_train_tf = tf_vectorizer.fit_transform(X_train)\n",
    "X_test_tf = tf_vectorizer.transform(X_test)"
   ],
   "id": "8bbc78b7bb0997f7",
   "outputs": [],
   "execution_count": 11
  },
  {
   "metadata": {
    "ExecuteTime": {
     "end_time": "2025-04-24T01:20:24.486930Z",
     "start_time": "2025-04-24T01:20:24.448150Z"
    }
   },
   "cell_type": "code",
   "source": [
    "tfidf_vectorizer = TfidfVectorizer()\n",
    "X_train_tfidf = tfidf_vectorizer.fit_transform(X_train)\n",
    "X_test_tfidf = tfidf_vectorizer.transform(X_test)"
   ],
   "id": "6b6883efda850b51",
   "outputs": [],
   "execution_count": 12
  },
  {
   "metadata": {
    "ExecuteTime": {
     "end_time": "2025-04-24T01:20:34.816792Z",
     "start_time": "2025-04-24T01:20:34.814228Z"
    }
   },
   "cell_type": "code",
   "source": [
    "print(\"Binary Vector Shape:\", X_train_binary.shape)\n",
    "print(\"TF Vector Shape:\", X_train_tf.shape)\n",
    "print(\"TF-IDF Vector Shape:\", X_train_tfidf.shape)\n"
   ],
   "id": "be66846f8ba21a6c",
   "outputs": [
    {
     "name": "stdout",
     "output_type": "stream",
     "text": [
      "Binary Vector Shape: (4457, 7113)\n",
      "TF Vector Shape: (4457, 7113)\n",
      "TF-IDF Vector Shape: (4457, 7113)\n"
     ]
    }
   ],
   "execution_count": 13
  },
  {
   "metadata": {
    "ExecuteTime": {
     "end_time": "2025-04-24T01:21:08.804864Z",
     "start_time": "2025-04-24T01:21:08.800450Z"
    }
   },
   "cell_type": "code",
   "source": [
    "from sklearn.svm import SVC\n",
    "import time"
   ],
   "id": "4f603e0e7e7b2d3d",
   "outputs": [],
   "execution_count": 14
  },
  {
   "metadata": {
    "ExecuteTime": {
     "end_time": "2025-04-24T01:21:16.587747Z",
     "start_time": "2025-04-24T01:21:16.585467Z"
    }
   },
   "cell_type": "code",
   "source": "results = {}",
   "id": "2706d9739d4ddb67",
   "outputs": [],
   "execution_count": 15
  },
  {
   "metadata": {
    "ExecuteTime": {
     "end_time": "2025-04-24T01:21:24.570561Z",
     "start_time": "2025-04-24T01:21:24.568521Z"
    }
   },
   "cell_type": "code",
   "source": [
    "feature_sets = {\n",
    "    'Binary': (X_train_binary, X_test_binary),\n",
    "    'TF': (X_train_tf, X_test_tf),\n",
    "    'TF-IDF': (X_train_tfidf, X_test_tfidf)\n",
    "}"
   ],
   "id": "7f1f7da378539a00",
   "outputs": [],
   "execution_count": 16
  },
  {
   "metadata": {
    "ExecuteTime": {
     "end_time": "2025-04-24T01:24:07.507665Z",
     "start_time": "2025-04-24T01:24:05.558717Z"
    }
   },
   "cell_type": "code",
   "source": [
    "for feature_name, (X_tr, X_te) in feature_sets.items():\n",
    "    print(f\"\\n--- {feature_name} Representation ---\")\n",
    "    results[feature_name] = {}\n",
    "    \n",
    "    # 1️⃣ Train Linear SVM\n",
    "    linear_svm = SVC(kernel='linear')\n",
    "    start_time = time.time()\n",
    "    linear_svm.fit(X_tr, y_train)\n",
    "    end_time = time.time()\n",
    "    linear_time = end_time - start_time\n",
    "    results[feature_name]['Linear_SVM_Time'] = linear_time\n",
    "    print(f\"Linear SVM Training Time: {linear_time:.4f} seconds\")\n",
    "    \n",
    "    rbf_svm = SVC(kernel='rbf')\n",
    "    start_time = time.time()\n",
    "    rbf_svm.fit(X_tr, y_train)\n",
    "    end_time = time.time()\n",
    "    rbf_time = end_time - start_time\n",
    "    results[feature_name]['RBF_SVM_Time'] = rbf_time\n",
    "    print(f\"RBF SVM Training Time: {rbf_time:.4f} seconds\")"
   ],
   "id": "be96d0e9360fdac0",
   "outputs": [
    {
     "name": "stdout",
     "output_type": "stream",
     "text": [
      "\n",
      "--- Binary Representation ---\n",
      "Linear SVM Training Time: 0.1826 seconds\n",
      "RBF SVM Training Time: 0.4074 seconds\n",
      "\n",
      "--- TF Representation ---\n",
      "Linear SVM Training Time: 0.1746 seconds\n",
      "RBF SVM Training Time: 0.4022 seconds\n",
      "\n",
      "--- TF-IDF Representation ---\n",
      "Linear SVM Training Time: 0.2573 seconds\n",
      "RBF SVM Training Time: 0.5146 seconds\n"
     ]
    }
   ],
   "execution_count": 20
  },
  {
   "metadata": {
    "ExecuteTime": {
     "end_time": "2025-04-24T01:24:34.702307Z",
     "start_time": "2025-04-24T01:24:34.699878Z"
    }
   },
   "cell_type": "code",
   "source": "from sklearn.metrics import confusion_matrix",
   "id": "675f1eb652afb1d5",
   "outputs": [],
   "execution_count": 21
  },
  {
   "metadata": {
    "ExecuteTime": {
     "end_time": "2025-04-24T01:24:44.343893Z",
     "start_time": "2025-04-24T01:24:44.334632Z"
    }
   },
   "cell_type": "code",
   "source": [
    "def calculate_metrics(y_true, y_pred):\n",
    "    cm = confusion_matrix(y_true, y_pred, labels=['ham', 'spam'])\n",
    "    tn, fp, fn, tp = cm.ravel()\n",
    "    \n",
    "    false_alarm_rate = fp / (fp + tn)\n",
    "    miss_rate = fn / (fn + tp)\n",
    "    overall_error = (fp + fn) / (fp + fn + tp + tn)\n",
    "    \n",
    "    return round(false_alarm_rate, 4), round(miss_rate, 4), round(overall_error, 4)"
   ],
   "id": "40e0ed1924136530",
   "outputs": [],
   "execution_count": 22
  },
  {
   "metadata": {
    "ExecuteTime": {
     "end_time": "2025-04-24T01:25:02.517154Z",
     "start_time": "2025-04-24T01:25:01.806227Z"
    }
   },
   "cell_type": "code",
   "source": [
    "metrics_results = {}\n",
    "\n",
    "for feature_name, (X_tr, X_te) in feature_sets.items():\n",
    "    print(f\"\\nEvaluating Linear SVM on {feature_name} Features\")\n",
    "    \n",
    "    # Predict on test set\n",
    "    linear_svm = SVC(kernel='linear')\n",
    "    linear_svm.fit(X_tr, y_train)\n",
    "    y_pred = linear_svm.predict(X_te)\n",
    "    \n",
    "    # Calculate metrics\n",
    "    fa_rate, miss_rate, error_rate = calculate_metrics(y_test, y_pred)\n",
    "    \n",
    "    metrics_results[feature_name] = {\n",
    "        'False Alarm Rate': fa_rate,\n",
    "        'Miss Rate': miss_rate,\n",
    "        'Overall Error Rate': error_rate\n",
    "    }\n",
    "    \n",
    "    print(f\"False Alarm Rate: {fa_rate}, Miss Rate: {miss_rate}, Overall Error Rate: {error_rate}\")"
   ],
   "id": "ff730668895e5b3e",
   "outputs": [
    {
     "name": "stdout",
     "output_type": "stream",
     "text": [
      "\n",
      "Evaluating Linear SVM on Binary Features\n",
      "False Alarm Rate: 0.0021, Miss Rate: 0.16, Overall Error Rate: 0.0233\n",
      "\n",
      "Evaluating Linear SVM on TF Features\n",
      "False Alarm Rate: 0.001, Miss Rate: 0.14, Overall Error Rate: 0.0197\n",
      "\n",
      "Evaluating Linear SVM on TF-IDF Features\n",
      "False Alarm Rate: 0.0021, Miss Rate: 0.14, Overall Error Rate: 0.0206\n"
     ]
    }
   ],
   "execution_count": 23
  },
  {
   "metadata": {
    "ExecuteTime": {
     "end_time": "2025-04-24T01:25:12.481776Z",
     "start_time": "2025-04-24T01:25:12.467789Z"
    }
   },
   "cell_type": "code",
   "source": [
    "metrics_df = pd.DataFrame(metrics_results).T\n",
    "metrics_df.index.name = 'Feature Representation'\n",
    "print(metrics_df)"
   ],
   "id": "c2d6f668c4945a54",
   "outputs": [
    {
     "name": "stdout",
     "output_type": "stream",
     "text": [
      "                        False Alarm Rate  Miss Rate  Overall Error Rate\n",
      "Feature Representation                                                 \n",
      "Binary                            0.0021       0.16              0.0233\n",
      "TF                                0.0010       0.14              0.0197\n",
      "TF-IDF                            0.0021       0.14              0.0206\n"
     ]
    }
   ],
   "execution_count": 24
  },
  {
   "metadata": {
    "ExecuteTime": {
     "end_time": "2025-04-24T01:26:37.425626Z",
     "start_time": "2025-04-24T01:26:37.418170Z"
    }
   },
   "cell_type": "code",
   "source": "c_values = [0.01, 0.1, 0.5, 1, 5, 10, 50, 100, 200, 500, 1000]",
   "id": "c5d297b35fdd99c6",
   "outputs": [],
   "execution_count": 25
  },
  {
   "metadata": {
    "ExecuteTime": {
     "end_time": "2025-04-24T01:26:44.431450Z",
     "start_time": "2025-04-24T01:26:44.429064Z"
    }
   },
   "cell_type": "code",
   "source": "c_metrics = []",
   "id": "6027e8049150a80d",
   "outputs": [],
   "execution_count": 26
  },
  {
   "metadata": {
    "ExecuteTime": {
     "end_time": "2025-04-24T01:26:55.567918Z",
     "start_time": "2025-04-24T01:26:53.305777Z"
    }
   },
   "cell_type": "code",
   "source": [
    "for c in c_values:\n",
    "    svm_model = SVC(kernel='linear', C=c)\n",
    "    svm_model.fit(X_train_binary, y_train)\n",
    "    y_pred = svm_model.predict(X_test_binary)\n",
    "    \n",
    "    fa_rate, miss_rate, error_rate = calculate_metrics(y_test, y_pred)\n",
    "    \n",
    "    c_metrics.append({\n",
    "        'C': c,\n",
    "        'False Alarm Rate': fa_rate,\n",
    "        'Miss Rate': miss_rate,\n",
    "        'Overall Error Rate': error_rate\n",
    "    })"
   ],
   "id": "2d61b5ce55c219f6",
   "outputs": [],
   "execution_count": 27
  },
  {
   "metadata": {
    "ExecuteTime": {
     "end_time": "2025-04-24T01:27:03.883623Z",
     "start_time": "2025-04-24T01:27:03.874165Z"
    }
   },
   "cell_type": "code",
   "source": [
    "c_metrics_df = pd.DataFrame(c_metrics)\n",
    "print(c_metrics_df)"
   ],
   "id": "272794ae721e6c0c",
   "outputs": [
    {
     "name": "stdout",
     "output_type": "stream",
     "text": [
      "          C  False Alarm Rate  Miss Rate  Overall Error Rate\n",
      "0      0.01            0.0000     0.3733              0.0502\n",
      "1      0.10            0.0000     0.1667              0.0224\n",
      "2      0.50            0.0010     0.1467              0.0206\n",
      "3      1.00            0.0021     0.1600              0.0233\n",
      "4      5.00            0.0021     0.1733              0.0251\n",
      "5     10.00            0.0021     0.1733              0.0251\n",
      "6     50.00            0.0021     0.1733              0.0251\n",
      "7    100.00            0.0021     0.1733              0.0251\n",
      "8    200.00            0.0021     0.1733              0.0251\n",
      "9    500.00            0.0021     0.1733              0.0251\n",
      "10  1000.00            0.0021     0.1733              0.0251\n"
     ]
    }
   ],
   "execution_count": 28
  },
  {
   "metadata": {
    "ExecuteTime": {
     "end_time": "2025-04-24T01:27:40.733509Z",
     "start_time": "2025-04-24T01:27:40.725758Z"
    }
   },
   "cell_type": "code",
   "source": [
    "from sklearn.naive_bayes import MultinomialNB\n",
    "from sklearn.tree import DecisionTreeClassifier\n",
    "import time"
   ],
   "id": "42cc95070eb2fe02",
   "outputs": [],
   "execution_count": 29
  },
  {
   "metadata": {
    "ExecuteTime": {
     "end_time": "2025-04-24T01:27:47.202435Z",
     "start_time": "2025-04-24T01:27:47.199524Z"
    }
   },
   "cell_type": "code",
   "source": "comparison_results = {}",
   "id": "c0c1d59bdb4385ff",
   "outputs": [],
   "execution_count": 30
  },
  {
   "metadata": {
    "ExecuteTime": {
     "end_time": "2025-04-24T01:28:18.996929Z",
     "start_time": "2025-04-24T01:28:18.763346Z"
    }
   },
   "cell_type": "code",
   "source": [
    "svm = SVC(kernel='linear')\n",
    "start_train = time.time()\n",
    "svm.fit(X_train_binary, y_train)\n",
    "end_train = time.time()\n",
    "\n",
    "start_test = time.time()\n",
    "y_pred_svm = svm.predict(X_test_binary)\n",
    "end_test = time.time()\n",
    "\n",
    "fa_svm, miss_svm, error_svm = calculate_metrics(y_test, y_pred_svm)\n",
    "\n",
    "comparison_results['SVM (Linear)'] = {\n",
    "    'False Alarm Rate': fa_svm,\n",
    "    'Miss Rate': miss_svm,\n",
    "    'Training Time (s)': round(end_train - start_train, 4),\n",
    "    'Testing Time (s)': round(end_test - start_test, 4)\n",
    "}"
   ],
   "id": "f880a5f8195dcdc9",
   "outputs": [],
   "execution_count": 32
  },
  {
   "metadata": {
    "ExecuteTime": {
     "end_time": "2025-04-24T01:28:31.530649Z",
     "start_time": "2025-04-24T01:28:31.473362Z"
    }
   },
   "cell_type": "code",
   "source": [
    "nb = MultinomialNB()\n",
    "start_train = time.time()\n",
    "nb.fit(X_train_binary, y_train)\n",
    "end_train = time.time()\n",
    "\n",
    "start_test = time.time()\n",
    "y_pred_nb = nb.predict(X_test_binary)\n",
    "end_test = time.time()\n",
    "\n",
    "fa_nb, miss_nb, error_nb = calculate_metrics(y_test, y_pred_nb)\n",
    "\n",
    "comparison_results['Naive Bayes'] = {\n",
    "    'False Alarm Rate': fa_nb,\n",
    "    'Miss Rate': miss_nb,\n",
    "    'Training Time (s)': round(end_train - start_train, 4),\n",
    "    'Testing Time (s)': round(end_test - start_test, 4)\n",
    "}"
   ],
   "id": "e6629c2b7872ebf7",
   "outputs": [],
   "execution_count": 33
  },
  {
   "metadata": {
    "ExecuteTime": {
     "end_time": "2025-04-24T01:28:41.159767Z",
     "start_time": "2025-04-24T01:28:41.092157Z"
    }
   },
   "cell_type": "code",
   "source": [
    "dt = DecisionTreeClassifier()\n",
    "start_train = time.time()\n",
    "dt.fit(X_train_binary, y_train)\n",
    "end_train = time.time()\n",
    "\n",
    "start_test = time.time()\n",
    "y_pred_dt = dt.predict(X_test_binary)\n",
    "end_test = time.time()\n",
    "\n",
    "fa_dt, miss_dt, error_dt = calculate_metrics(y_test, y_pred_dt)\n",
    "\n",
    "comparison_results['Decision Tree'] = {\n",
    "    'False Alarm Rate': fa_dt,\n",
    "    'Miss Rate': miss_dt,\n",
    "    'Training Time (s)': round(end_train - start_train, 4),\n",
    "    'Testing Time (s)': round(end_test - start_test, 4)\n",
    "}"
   ],
   "id": "fd8b13ea04cbe700",
   "outputs": [],
   "execution_count": 34
  },
  {
   "metadata": {
    "ExecuteTime": {
     "end_time": "2025-04-24T01:28:48.651442Z",
     "start_time": "2025-04-24T01:28:48.646114Z"
    }
   },
   "cell_type": "code",
   "source": [
    "comparison_df = pd.DataFrame(comparison_results).T\n",
    "comparison_df.index.name = 'Model'\n",
    "print(comparison_df)"
   ],
   "id": "3b47610bff897d2",
   "outputs": [
    {
     "name": "stdout",
     "output_type": "stream",
     "text": [
      "               False Alarm Rate  Miss Rate  Training Time (s)  \\\n",
      "Model                                                           \n",
      "SVM (Linear)             0.0021     0.1600             0.1794   \n",
      "Naive Bayes              0.0041     0.1267             0.0474   \n",
      "Decision Tree            0.0104     0.2000             0.0632   \n",
      "\n",
      "               Testing Time (s)  \n",
      "Model                            \n",
      "SVM (Linear)             0.0315  \n",
      "Naive Bayes              0.0064  \n",
      "Decision Tree            0.0005  \n"
     ]
    }
   ],
   "execution_count": 35
  }
 ],
 "metadata": {
  "kernelspec": {
   "display_name": "Python 3",
   "language": "python",
   "name": "python3"
  },
  "language_info": {
   "codemirror_mode": {
    "name": "ipython",
    "version": 2
   },
   "file_extension": ".py",
   "mimetype": "text/x-python",
   "name": "python",
   "nbconvert_exporter": "python",
   "pygments_lexer": "ipython2",
   "version": "2.7.6"
  }
 },
 "nbformat": 4,
 "nbformat_minor": 5
}
